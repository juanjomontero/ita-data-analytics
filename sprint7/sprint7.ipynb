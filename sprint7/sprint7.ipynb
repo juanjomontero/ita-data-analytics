{
 "cells": [
  {
   "cell_type": "markdown",
   "id": "b86608a0-0d2e-42e7-a524-c195aa974293",
   "metadata": {},
   "source": [
    "## MONTERO, Juanjo"
   ]
  },
  {
   "cell_type": "markdown",
   "id": "5d8ceffe-0399-441d-9c92-7d1c75959738",
   "metadata": {},
   "source": [
    "# SPRINT 7"
   ]
  },
  {
   "cell_type": "markdown",
   "id": "271605ae-d0ea-449d-941d-45b4f4db5d02",
   "metadata": {},
   "source": [
    "## Nivel 1\n",
    "### Ejercicio 1"
   ]
  },
  {
   "cell_type": "markdown",
   "id": "5b8c034c-37b1-4369-b9bc-01f2951bb5b5",
   "metadata": {},
   "source": [
    "#### Calculadora Índice Masa Corporal"
   ]
  },
  {
   "cell_type": "markdown",
   "id": "c3a80d31-6794-463b-87e3-293673cdd752",
   "metadata": {},
   "source": [
    "Se solicita al usuario mediante input que introduzcan un valor de peso y altura. \n",
    "\n",
    "Mediante bucles _while_ y _try-except_, se repite este proceso hasta que el valor es válido (es decir, puede convertirse al tipo de dato _float_).\n",
    "\n",
    "Se calcula el *imc* a través de su fórmula matemática y se calcula una de las categorías en base a este valor (con condicionales _if-else_).\n",
    "\n",
    "Con el parámetro opcional _print_results_ puede solicitarse que se impriman los resultados por pantalla.\n",
    "\n",
    "Finalmente, la función devuelve un diccionario con el valor IMC y la categoría calculada.\n"
   ]
  },
  {
   "cell_type": "code",
   "execution_count": 1,
   "id": "0339767b-ab15-4d37-a7ad-85790c23ae4c",
   "metadata": {},
   "outputs": [],
   "source": [
    "def calcular_imc(print_results = False):\n",
    "    '''\n",
    "    Calcula el Indice de Masa Corporal (IMC) para una altura y peso introducidos por el usuario.\n",
    "    Devuelve un diccionario con IMC y una de las cuatro categorías de IMC.\n",
    "    '''\n",
    "    \n",
    "    retry_peso = True\n",
    "    while retry_peso:\n",
    "        try:\n",
    "            peso = abs(float(input(\"Introduce tu peso en kilogramos: \")))\n",
    "            retry_peso = False\n",
    "        except:\n",
    "            print(\"\\n(!) El valor introducido no es válido.\\n\")\n",
    "            \n",
    "    retry_altura = True       \n",
    "    while retry_altura:\n",
    "        try:\n",
    "            altura_en_centimetros = abs(float(input(\"Introduce tu altura en centímetros: \")))\n",
    "            retry_altura = False\n",
    "        except:\n",
    "            print(\"\\n(!) El valor introducido no es válido.\\n\")\n",
    "    \n",
    "    altura_en_metros = altura_en_centimetros / 100\n",
    "    imc = round(peso/(altura_en_metros**2),2)\n",
    "    \n",
    "    if imc < 18.5:\n",
    "        categoria = \"bajo peso\"\n",
    "    elif imc < 25:\n",
    "        categoria = \"peso normal\"\n",
    "    elif imc < 30:\n",
    "        categoria = \"sobrepeso\"\n",
    "    else:\n",
    "        categoria = \"obesidad\"\n",
    "    \n",
    "    if print_results:\n",
    "        print(f\"\"\"\n",
    "                -----------------------------\n",
    "                Peso:      {peso} kg\n",
    "                Altura:    {int(altura_en_centimetros)} cm\n",
    "                IMC:       {imc}\n",
    "                Categoría: {categoria.capitalize()}\n",
    "                -----------------------------\n",
    "                \"\"\")\n",
    "    \n",
    "    return {\"IMC\":imc, \"Categoría\": categoria}"
   ]
  },
  {
   "cell_type": "markdown",
   "id": "1537458f-bc7a-4acf-86a7-8a44bd9660ff",
   "metadata": {},
   "source": [
    "Se ejecuta la función sin ninún parámetro."
   ]
  },
  {
   "cell_type": "code",
   "execution_count": 2,
   "id": "e9197618-8731-41a1-99f1-a07d8596a748",
   "metadata": {},
   "outputs": [
    {
     "name": "stdin",
     "output_type": "stream",
     "text": [
      "Introduce tu peso en kilogramos:  70\n",
      "Introduce tu altura en centímetros:  180\n"
     ]
    },
    {
     "data": {
      "text/plain": [
       "{'IMC': 21.6, 'Categoría': 'peso normal'}"
      ]
     },
     "execution_count": 2,
     "metadata": {},
     "output_type": "execute_result"
    }
   ],
   "source": [
    "calcular_imc()"
   ]
  },
  {
   "cell_type": "markdown",
   "id": "ef9cf294-3233-49e2-8d5d-def4d048d1aa",
   "metadata": {},
   "source": [
    "Se puede solicitar que se muestren los resultados por pantalla con el parámetro **print_results**."
   ]
  },
  {
   "cell_type": "code",
   "execution_count": 3,
   "id": "d59bec60-fda4-493e-8596-436f3e43dc78",
   "metadata": {},
   "outputs": [
    {
     "name": "stdin",
     "output_type": "stream",
     "text": [
      "Introduce tu peso en kilogramos:  95\n",
      "Introduce tu altura en centímetros:  145\n"
     ]
    },
    {
     "name": "stdout",
     "output_type": "stream",
     "text": [
      "\n",
      "                -----------------------------\n",
      "                Peso:      95.0 kg\n",
      "                Altura:    145 cm\n",
      "                IMC:       45.18\n",
      "                Categoría: Obesidad\n",
      "                -----------------------------\n",
      "                \n"
     ]
    },
    {
     "data": {
      "text/plain": [
       "{'IMC': 45.18, 'Categoría': 'obesidad'}"
      ]
     },
     "execution_count": 3,
     "metadata": {},
     "output_type": "execute_result"
    }
   ],
   "source": [
    "calcular_imc(print_results = True)"
   ]
  },
  {
   "cell_type": "markdown",
   "id": "3d2868b6-dd8b-48f3-98c3-286b0443cbb3",
   "metadata": {},
   "source": [
    "***"
   ]
  },
  {
   "cell_type": "markdown",
   "id": "b88893cd-f257-4f38-91b8-4980769c3f87",
   "metadata": {},
   "source": [
    "## Nivel 1\n",
    "### Ejercicio 2"
   ]
  },
  {
   "cell_type": "markdown",
   "id": "d17727e8-5c2e-4392-9e5c-d47fa0afe210",
   "metadata": {},
   "source": [
    "#### Conversor de temperaturas"
   ]
  },
  {
   "cell_type": "markdown",
   "id": "0a86c770-d789-48f1-a5f1-f6e20b8b7987",
   "metadata": {},
   "source": [
    "Se definen tres funciones para convertir temperaturas en función de la unidad de temperatura de la que se parte:\n",
    "- convertir_celsius\n",
    "- convertir_kelvin\n",
    "- convertir_fahrenheit\n",
    "\n",
    "La función **conversor_temperaturas** muestra un menu que permite escoger la unidad. \n",
    "\n",
    "A través de un bucle *while*, esta selección se repite hasta que el valor introducido por el usuario es uno de los valores posibles mostrados en el menú. Los valores pueden introducire en mayúsculas o minúsculas, ya que son convertidos a minúsculas con el método _lower_.\n",
    "\n",
    "En el caso de querer finalizar el programa sin ingresar ninguna temperatura, se puede escoger la opción \"X\". El programa devuelve un booleano _False_ y termina.\n",
    "\n",
    "Si se introduce una unidad, se solicita un valor de temperatura. Después, en base a la unidad previamente escogida, la función llama a una de las tres funciones conversoras que se habían declarado previamente y devuelve un diccionario conteniendo la temperatura en tres unidades.\n",
    "\n",
    "Opcionalmente, a través del parámetro _print_result_, pueden mostrarse los valores por pantalla de un modo más legible. Se utiliza un bucle _for_ para recorrer el diccionario y mostrar cada una de las entradas y la función _round_ para reducir el número de decimales mostrados."
   ]
  },
  {
   "cell_type": "code",
   "execution_count": 4,
   "id": "b0cdd2f0-ccfd-424a-b8bf-8a5cb600f5e7",
   "metadata": {},
   "outputs": [],
   "source": [
    "def convertir_celsius(temperatura_celsius):\n",
    "    '''Dada una temperatura en grados celsius, se devuelve un diccionario con esta temperatura en ºC, ºF y ªK'''\n",
    "    temperatura_fahrenheit = temperatura_celsius * (9/5) + 32\n",
    "    temperatura_kelvin = temperatura_celsius + 273.15\n",
    "    return {\"C\": float(round(temperatura_celsius,2)),\n",
    "        \"F\": float(round(temperatura_fahrenheit,2)),\n",
    "        \"K\": float(round(temperatura_kelvin,2))}\n",
    "\n",
    "\n",
    "def convertir_kelvin(temperatura_kelvin):\n",
    "    '''Dada una temperatura en grados kelvin, se devuelve un diccionario con esta temperatura en ºC, ºF y ªK'''\n",
    "    temperatura_celsius = temperatura_kelvin - 273.15\n",
    "    temperatura_fahrenheit = (9/5) * (temperatura_kelvin - 273.15) + 32\n",
    "    return {\"C\": float(round(temperatura_celsius,2)),\n",
    "            \"F\": float(round(temperatura_fahrenheit,2)),\n",
    "            \"K\": float(round(temperatura_kelvin,2))}\n",
    "\n",
    "    \n",
    "def convertir_fahrenheit(temperatura_fahrenheit):\n",
    "    '''Dada una temperatura en grados fahrenheit, se devuelve un diccionario con esta temperatura en ºC, ºF y ªK'''\n",
    "    temperatura_celsius = (temperatura_fahrenheit - 32) * (5/9)\n",
    "    temperatura_kelvin = (5/9)*(temperatura_fahrenheit - 32) + 273.15\n",
    "    return {\"C\": float(round(temperatura_celsius,2)),\n",
    "        \"F\": float(round(temperatura_fahrenheit,2)),\n",
    "        \"K\": float(round(temperatura_kelvin,2))}\n",
    "\n",
    "    \n",
    "def conversor_temperaturas(print_result = False):\n",
    "    '''\n",
    "    Permite escoger una unidad de temperatura y un valor de temperatura en esa unidad.\n",
    "    Devuelve un diccionario con la temperatura expresada en grados Celsius, Fahrenheit y Kelvin.\n",
    "    '''\n",
    "    \n",
    "    reintenta_eleccion = True\n",
    "    while reintenta_eleccion:\n",
    "        print(\"¿En qué unidad está la temperatura a convertir?\\n\")\n",
    "        print(\"  C - Para grados Celsius.\")\n",
    "        print(\"  F - Para grados Fahrenheit.\")\n",
    "        print(\"  K - Para grados Kelvin.\")\n",
    "        print(\"  X - Para Salir.\\n\")\n",
    "        unidad_introducida = input(\"Introduce tu elección: \")\n",
    "        \n",
    "        if unidad_introducida.lower() in [\"c\", \"f\", \"k\", \"x\"]:\n",
    "            reintenta_eleccion = False\n",
    "        else:\n",
    "            print(\"\\n(!) La opción seleccionada no es válida.\")\n",
    "            print(\"Introduce uno de los valores presentados. (C, F, K, X)\\n\")\n",
    "        \n",
    "    if unidad_introducida == \"x\":\n",
    "        print(\"\\nEl programa ha finalizado.\")\n",
    "        return False\n",
    "    else:\n",
    "        reintenta_temperatura = True\n",
    "        while reintenta_temperatura:\n",
    "            try:\n",
    "                temperatura = float(input(\"\\nIntroduce el valor de temperatura a convertir: \"))\n",
    "                print()\n",
    "                reintenta_temperatura = False\n",
    "            except: \n",
    "                print(\"\\n(!) El valor de temperatura no es válido.\\n\")\n",
    "\n",
    "    if unidad_introducida == \"c\":\n",
    "        temperaturas_convertidas = convertir_celsius(temperatura)\n",
    "    elif unidad_introducida == \"f\":\n",
    "        temperaturas_convertidas = convertir_fahrenheit(temperatura)\n",
    "    elif unidad_introducida == \"k\":\n",
    "        temperaturas_convertidas = convertir_kelvin(temperatura)\n",
    "    else: \n",
    "        return False\n",
    "        \n",
    "    if print_result:    \n",
    "        print(\"---------------------\")\n",
    "        for clave in temperaturas_convertidas:\n",
    "            print(f\"     {round(temperaturas_convertidas[clave],1)}  º{clave}\")\n",
    "        print(\"---------------------\")\n",
    "    \n",
    "    return temperaturas_convertidas"
   ]
  },
  {
   "cell_type": "code",
   "execution_count": 5,
   "id": "229a9a9a-8eac-44c4-bb73-2a9200ae67fc",
   "metadata": {},
   "outputs": [
    {
     "name": "stdout",
     "output_type": "stream",
     "text": [
      "¿En qué unidad está la temperatura a convertir?\n",
      "\n",
      "  C - Para grados Celsius.\n",
      "  F - Para grados Fahrenheit.\n",
      "  K - Para grados Kelvin.\n",
      "  X - Para Salir.\n",
      "\n"
     ]
    },
    {
     "name": "stdin",
     "output_type": "stream",
     "text": [
      "Introduce tu elección:  c\n",
      "\n",
      "Introduce el valor de temperatura a convertir:  25\n"
     ]
    },
    {
     "name": "stdout",
     "output_type": "stream",
     "text": [
      "\n"
     ]
    },
    {
     "data": {
      "text/plain": [
       "{'C': 25.0, 'F': 77.0, 'K': 298.15}"
      ]
     },
     "execution_count": 5,
     "metadata": {},
     "output_type": "execute_result"
    }
   ],
   "source": [
    "conversor_temperaturas()"
   ]
  },
  {
   "cell_type": "markdown",
   "id": "00263c29-838c-4d16-b278-d64952b3ec3f",
   "metadata": {},
   "source": [
    "Opcionalmente, mostrando los resultados por pantalla de manera más legible:"
   ]
  },
  {
   "cell_type": "code",
   "execution_count": 6,
   "id": "b53baafb-3cab-4248-9aad-6bc2c965b1e4",
   "metadata": {},
   "outputs": [
    {
     "name": "stdout",
     "output_type": "stream",
     "text": [
      "¿En qué unidad está la temperatura a convertir?\n",
      "\n",
      "  C - Para grados Celsius.\n",
      "  F - Para grados Fahrenheit.\n",
      "  K - Para grados Kelvin.\n",
      "  X - Para Salir.\n",
      "\n"
     ]
    },
    {
     "name": "stdin",
     "output_type": "stream",
     "text": [
      "Introduce tu elección:  k\n",
      "\n",
      "Introduce el valor de temperatura a convertir:  305\n"
     ]
    },
    {
     "name": "stdout",
     "output_type": "stream",
     "text": [
      "\n",
      "---------------------\n",
      "     31.9  ºC\n",
      "     89.3  ºF\n",
      "     305.0  ºK\n",
      "---------------------\n"
     ]
    },
    {
     "data": {
      "text/plain": [
       "{'C': 31.85, 'F': 89.33, 'K': 305.0}"
      ]
     },
     "execution_count": 6,
     "metadata": {},
     "output_type": "execute_result"
    }
   ],
   "source": [
    "conversor_temperaturas(print_result = True)"
   ]
  },
  {
   "cell_type": "markdown",
   "id": "91e55af3-c44c-463b-9d4d-84903bb2da19",
   "metadata": {},
   "source": [
    "***"
   ]
  },
  {
   "cell_type": "markdown",
   "id": "e3ee17fd-52d1-46e0-8caa-d7a3f4b15653",
   "metadata": {},
   "source": [
    "## Nivel 1\n",
    "### Ejercicio 3"
   ]
  },
  {
   "cell_type": "markdown",
   "id": "2751012b-c2f7-4ec1-9799-4e2067fef344",
   "metadata": {},
   "source": [
    "Para contar las palabras en un texto, se han definido dos funciones distintas:\n",
    "\n",
    "- **limpiar_texto**: convierte el texto en un string únicamente con caracteres alfabéticos y espacios.\n",
    "- **contador_palabras**: cuenta las palabras de un texto. Utiliza la función anterior para preparar el texto.\n",
    "\n",
    "**_limpiar_texto_** comprueba (en el marco de la función _try_) si es posible convertir el input dado al tipo de dato _string_. Si es posible, recorre cada uno de los caracteres de la cadena optando por añadirlos a una nueva cadena (llamada _texto_limpio_) en caso de ser caracteres **alfabéticos**. En el caso de valores **no alfabéticos**, estos son sustituidos por espacios. Nótese que en el caso de haber más de un carácter no alfabético, se añade únicamente **un solo espacio** a la cadena _texto_limpio_. Una vez se han comprobado todos los caracteres, la función devuelve la nueva cadena _texto_limpio_.\n",
    "\n",
    "**_contador_de_palabras_** acepta un texto como parámetro. Se apoya en la ya presentada función _limpiar_texto_. Utilizando el método **split** se trocea el texto creando una **lista** de palabras. Crea un diccionario vacío _frecuencia_palabras_ y recorriendo la lista creada con un bucle _for_, añade cada palabra como clave si no existe previamente, o suma uno al conteo de esa palabra en caso de que haya aparecido con anterioridad. Por defecto, el diccionario de frecuencias resultante se ordena alfabéticamente a través de una _dict comprehension_, este comportamiento puede controlarse con el parámetro opcional _orden_alfabetico_). "
   ]
  },
  {
   "cell_type": "code",
   "execution_count": 7,
   "id": "bc470ed1-1c10-41e3-b135-014ee7d6dce2",
   "metadata": {},
   "outputs": [],
   "source": [
    "def limpiar_texto(texto):\n",
    "    '''\n",
    "    El parámetro texto debe ser una cadena de caracteres (string).\n",
    "    Devuelve el texto conservando únicamen caracteres alfabéticos y espacios.\n",
    "    '''\n",
    "    texto_limpio = \"\"\n",
    "    try:\n",
    "        texto = str(texto)\n",
    "        for caracter in texto:\n",
    "            if not caracter.isalpha():\n",
    "                caracter = \" \"\n",
    "                if (len(texto_limpio) > 0) and (texto_limpio[-1] != \" \"):\n",
    "                    texto_limpio += caracter              \n",
    "            else:\n",
    "                texto_limpio += caracter.lower()          \n",
    "    except:\n",
    "        return False\n",
    "    \n",
    "    return texto_limpio\n",
    "\n",
    "\n",
    "def contador_palabras(texto, orden_alfabetico = True):\n",
    "    texto = limpiar_texto(texto)\n",
    "    lista_palabras = texto.split()\n",
    "    frecuencia_palabras = {}\n",
    "    for palabra in lista_palabras:\n",
    "        if palabra in frecuencia_palabras:\n",
    "            frecuencia_palabras[palabra] += 1\n",
    "        else:\n",
    "            frecuencia_palabras[palabra] = 1\n",
    "    \n",
    "    if orden_alfabetico: # Por defecto, se devuelve el diccionario con las claves ordenadas alfabeticamente \n",
    "        frecuencia_palabras = {clave : frecuencia_palabras[clave] for clave in sorted(frecuencia_palabras)}\n",
    "    \n",
    "    return frecuencia_palabras"
   ]
  },
  {
   "cell_type": "markdown",
   "id": "4035c180-ebea-4391-b96d-0aba433ff4bf",
   "metadata": {},
   "source": [
    "Se declara un texto de prueba:"
   ]
  },
  {
   "cell_type": "code",
   "execution_count": 8,
   "id": "c1316cbe-85ac-4248-b84a-920612d524ea",
   "metadata": {},
   "outputs": [],
   "source": [
    "texto_de_prueba = \"\"\"\n",
    "Tú me quieres alba,\n",
    "me quieres de espumas,\n",
    "me quieres de nácar.\n",
    "Que sea azucena\n",
    "Sobre todas, casta.\n",
    "De perfume tenue.\n",
    "Corola cerrada .\n",
    "\n",
    "Ni un rayo de luna\n",
    "filtrado me haya.\n",
    "Ni una margarita\n",
    "se diga mi hermana.\n",
    "Tú me quieres nívea,\n",
    "tú me quieres blanca,\n",
    "tú me quieres alba.\n",
    "\n",
    "Tú que hubiste todas\n",
    "las copas a mano,\n",
    "de frutos y mieles\n",
    "los labios morados.\n",
    "Tú que en el banquete\n",
    "cubierto de pámpanos\n",
    "dejaste las carnes\n",
    "festejando a Baco.\n",
    "Tú que en los jardines\n",
    "negros del Engaño\n",
    "vestido de rojo\n",
    "corriste al Estrago.\n",
    "\n",
    "Tú que el esqueleto\n",
    "conservas intacto\n",
    "no sé todavía\n",
    "por cuáles milagros,\n",
    "me pretendes blanca\n",
    "(Dios te lo perdone),\n",
    "me pretendes casta\n",
    "(Dios te lo perdone),\n",
    "¡me pretendes alba!\n",
    "\n",
    "Huye hacia los bosques,\n",
    "vete a la montaña;\n",
    "límpiate la boca;\n",
    "vive en las cabañas;\n",
    "toca con las manos\n",
    "la tierra mojada;\n",
    "alimenta el cuerpo\n",
    "con raíz amarga;\n",
    "bebe de las rocas;\n",
    "duerme sobre escarcha;\n",
    "renueva tejidos\n",
    "con salitre y agua:\n",
    "\n",
    "Habla con los pájaros\n",
    "y lévate al alba.\n",
    "Y cuando las carnes\n",
    "te sean tornadas,\n",
    "y cuando hayas puesto\n",
    "en ellas el alma\n",
    "que por las alcobas\n",
    "se quedó enredada,\n",
    "entonces, buen hombre,\n",
    "preténdeme blanca,\n",
    "preténdeme nívea,\n",
    "preténdeme casta.\n",
    "\"\"\""
   ]
  },
  {
   "cell_type": "markdown",
   "id": "08184528-adcc-45bd-9b85-3c2017820787",
   "metadata": {},
   "source": [
    "Se ejecuta la función pasando la cadena _texto_de_prueba_ como argumento:"
   ]
  },
  {
   "cell_type": "code",
   "execution_count": 9,
   "id": "aa14a2b6-c0eb-481b-b916-6a2cc2b71410",
   "metadata": {},
   "outputs": [
    {
     "data": {
      "text/plain": [
       "{'a': 3,\n",
       " 'agua': 1,\n",
       " 'al': 2,\n",
       " 'alba': 4,\n",
       " 'alcobas': 1,\n",
       " 'alimenta': 1,\n",
       " 'alma': 1,\n",
       " 'amarga': 1,\n",
       " 'azucena': 1,\n",
       " 'baco': 1,\n",
       " 'banquete': 1,\n",
       " 'bebe': 1,\n",
       " 'blanca': 3,\n",
       " 'boca': 1,\n",
       " 'bosques': 1,\n",
       " 'buen': 1,\n",
       " 'cabañas': 1,\n",
       " 'carnes': 2,\n",
       " 'casta': 3,\n",
       " 'cerrada': 1,\n",
       " 'con': 4,\n",
       " 'conservas': 1,\n",
       " 'copas': 1,\n",
       " 'corola': 1,\n",
       " 'corriste': 1,\n",
       " 'cuando': 2,\n",
       " 'cubierto': 1,\n",
       " 'cuerpo': 1,\n",
       " 'cuáles': 1,\n",
       " 'de': 8,\n",
       " 'dejaste': 1,\n",
       " 'del': 1,\n",
       " 'diga': 1,\n",
       " 'dios': 2,\n",
       " 'duerme': 1,\n",
       " 'el': 4,\n",
       " 'ellas': 1,\n",
       " 'en': 4,\n",
       " 'engaño': 1,\n",
       " 'enredada': 1,\n",
       " 'entonces': 1,\n",
       " 'escarcha': 1,\n",
       " 'espumas': 1,\n",
       " 'esqueleto': 1,\n",
       " 'estrago': 1,\n",
       " 'festejando': 1,\n",
       " 'filtrado': 1,\n",
       " 'frutos': 1,\n",
       " 'habla': 1,\n",
       " 'hacia': 1,\n",
       " 'haya': 1,\n",
       " 'hayas': 1,\n",
       " 'hermana': 1,\n",
       " 'hombre': 1,\n",
       " 'hubiste': 1,\n",
       " 'huye': 1,\n",
       " 'intacto': 1,\n",
       " 'jardines': 1,\n",
       " 'la': 3,\n",
       " 'labios': 1,\n",
       " 'las': 7,\n",
       " 'lo': 2,\n",
       " 'los': 4,\n",
       " 'luna': 1,\n",
       " 'lévate': 1,\n",
       " 'límpiate': 1,\n",
       " 'mano': 1,\n",
       " 'manos': 1,\n",
       " 'margarita': 1,\n",
       " 'me': 10,\n",
       " 'mi': 1,\n",
       " 'mieles': 1,\n",
       " 'milagros': 1,\n",
       " 'mojada': 1,\n",
       " 'montaña': 1,\n",
       " 'morados': 1,\n",
       " 'negros': 1,\n",
       " 'ni': 2,\n",
       " 'no': 1,\n",
       " 'nácar': 1,\n",
       " 'nívea': 2,\n",
       " 'perdone': 2,\n",
       " 'perfume': 1,\n",
       " 'por': 2,\n",
       " 'pretendes': 3,\n",
       " 'preténdeme': 3,\n",
       " 'puesto': 1,\n",
       " 'pájaros': 1,\n",
       " 'pámpanos': 1,\n",
       " 'que': 6,\n",
       " 'quedó': 1,\n",
       " 'quieres': 6,\n",
       " 'rayo': 1,\n",
       " 'raíz': 1,\n",
       " 'renueva': 1,\n",
       " 'rocas': 1,\n",
       " 'rojo': 1,\n",
       " 'salitre': 1,\n",
       " 'se': 2,\n",
       " 'sea': 1,\n",
       " 'sean': 1,\n",
       " 'sobre': 2,\n",
       " 'sé': 1,\n",
       " 'te': 3,\n",
       " 'tejidos': 1,\n",
       " 'tenue': 1,\n",
       " 'tierra': 1,\n",
       " 'toca': 1,\n",
       " 'todas': 2,\n",
       " 'todavía': 1,\n",
       " 'tornadas': 1,\n",
       " 'tú': 8,\n",
       " 'un': 1,\n",
       " 'una': 1,\n",
       " 'vestido': 1,\n",
       " 'vete': 1,\n",
       " 'vive': 1,\n",
       " 'y': 5}"
      ]
     },
     "execution_count": 9,
     "metadata": {},
     "output_type": "execute_result"
    }
   ],
   "source": [
    "contador_palabras(texto_de_prueba)"
   ]
  },
  {
   "cell_type": "markdown",
   "id": "ff524a27-68da-4d1b-87de-96829c0ed24c",
   "metadata": {},
   "source": [
    "***"
   ]
  },
  {
   "cell_type": "markdown",
   "id": "51a05848-2c83-44dc-a636-85b8b04bc5a9",
   "metadata": {},
   "source": [
    "## Nivel 1\n",
    "### Ejercicio 4"
   ]
  },
  {
   "cell_type": "markdown",
   "id": "54ed8d59-e12f-4750-a34e-76d51ad5afb3",
   "metadata": {},
   "source": [
    "La función **corrige_diccionarios** intercambia las claves y los valores de un diccionario dado.\n",
    "\n",
    "Para este ejercicio, no se aceptan diccionarios con valores duplicados (que generarían claves duplicadas), por lo que se le atribuye un valor **False al parámetro _acepta_duplicados_**.\n",
    "\n",
    "Para hacer este intercambio de claves y valores, se extraen los valores mediante el método de diccionario **values()** y se guardan en la variable claves como una lista. Las claves se extraen a través del método **keys()** y se guardan como lista en valores.\n",
    "\n",
    "Se compara la longitud de la lista claves, con la misma lista convertida a **set** para comprobar si hay duplicados (el tipo de datos *set*  no permite valores repetidos, por lo que la longitud debería diferir si existieran duplicados).\n",
    "\n",
    "**Si no existen repeticiones** en las claves, se crea un nuevo diccionario con las listas **claves** y **valores**, en conjunción con la función *zip* utilizando un _dict_comprehension_.\n",
    "\n",
    "**Si existen repeticiones**, dado que se solicita en el enunciado que no se acepten duplicados, se muestra un mensaje de error y se sale de la función devolviendo un bool False."
   ]
  },
  {
   "cell_type": "code",
   "execution_count": 10,
   "id": "ed6de970-4950-48e6-ab21-a6d2cfce476c",
   "metadata": {},
   "outputs": [],
   "source": [
    "def corrige_diccionario(diccionario_inicial, acepta_duplicados = True):\n",
    "    '''\n",
    "    Dado un diccionario inicial, se devuelve un diccionario con las claves y los valores intercambiados.\n",
    "    Se puede configurar si se aceptan diccionarios con valores duplicados o no- En caso afirmativo, se devuelven listas\n",
    "    asociadas a las claves duplicadas. En caso negativo, se devuelve un mensaje de error si existen duplicados.\n",
    "    '''\n",
    "    claves = list(diccionario_inicial.values())\n",
    "    valores = list(diccionario_inicial.keys())\n",
    "\n",
    "    if len(claves) == len(set(claves)):\n",
    "        diccionario = {clave:valor for (clave, valor) in zip(claves, valores)}\n",
    " \n",
    "    else:\n",
    "        if not acepta_duplicados:\n",
    "            print(\"Error: multiple keys for one value\")\n",
    "            return False\n",
    "        diccionario = {}\n",
    "        for i in range(len(claves)):\n",
    "            clave = claves[i]\n",
    "            valor = valores[i]\n",
    "            \n",
    "            if claves.count(clave) == 1:\n",
    "                diccionario[clave] = valor\n",
    "            else:\n",
    "                if clave not in diccionario:\n",
    "                    diccionario[clave] = [valor]\n",
    "                else:\n",
    "                    diccionario[clave].append(valor)\n",
    "\n",
    "    return diccionario\n",
    "    "
   ]
  },
  {
   "cell_type": "markdown",
   "id": "949a0238-81cf-4471-8c20-7e4b0379394c",
   "metadata": {},
   "source": [
    "Se ejecuta la función pasando un diccionario **sin** valores duplicados:"
   ]
  },
  {
   "cell_type": "code",
   "execution_count": 11,
   "id": "2060428b-a159-4d1b-a5d6-4271ea900315",
   "metadata": {},
   "outputs": [
    {
     "data": {
      "text/plain": [
       "{'uno': 1, 'dos': 2, 'tres': 3, 'cuatro': 4, 'cinco': 5, 'seis': 6}"
      ]
     },
     "execution_count": 11,
     "metadata": {},
     "output_type": "execute_result"
    }
   ],
   "source": [
    "ejemplo1 = {1: \"uno\", 2:\"dos\", 3:\"tres\", 4:\"cuatro\", 5:\"cinco\", 6:\"seis\"}\n",
    "\n",
    "corrige_diccionario(ejemplo1, acepta_duplicados = False)"
   ]
  },
  {
   "cell_type": "markdown",
   "id": "d9a158e9-e4b0-4ab5-ae2d-85e5331de99d",
   "metadata": {},
   "source": [
    "Se vuelve a ejecutar la función, en esta ocasión *con* valores duplicados:"
   ]
  },
  {
   "cell_type": "code",
   "execution_count": 12,
   "id": "694e5e59-f6aa-4820-8903-b0f3d60147b9",
   "metadata": {},
   "outputs": [
    {
     "name": "stdout",
     "output_type": "stream",
     "text": [
      "Error: multiple keys for one value\n"
     ]
    },
    {
     "data": {
      "text/plain": [
       "False"
      ]
     },
     "execution_count": 12,
     "metadata": {},
     "output_type": "execute_result"
    }
   ],
   "source": [
    "ejemplo2 = {1: \"uno\", 2:\"dos\", 3:\"tres\", 4:\"cuatro\", 5:\"uno\", 6:\"dos\"}\n",
    "\n",
    "corrige_diccionario(ejemplo2, acepta_duplicados = False)"
   ]
  },
  {
   "cell_type": "markdown",
   "id": "e3e2e621-b2e2-4e41-bf2d-4778442b796c",
   "metadata": {},
   "source": [
    "***"
   ]
  },
  {
   "cell_type": "markdown",
   "id": "f4d2ad4f-6d6b-4549-8b84-a6e23465c1e5",
   "metadata": {},
   "source": [
    "## Nivel 2\n",
    "### Ejercicio 1"
   ]
  },
  {
   "cell_type": "markdown",
   "id": "9c3cbffe-8b9b-4170-b9c5-0c7ba3a1f04d",
   "metadata": {},
   "source": [
    "Se utiliza la misma función que para el ejercicio anterior, pero en este caso se pasa el parámetro opcional para **aceptar duplicaods** (en caso de no pasar ningún parámetro, la opción por defecto es aceptar duplicados).\n",
    "\n",
    "La lógica aplicada es la misma que en el ejercicio anterior excepto cuando se encuentran claves duplicadas:\n",
    "- Si la clave **no tiene duplicados**, el valor se guarda con su tipo de dato.\n",
    "- Si la clave **tiene duplicados, la primera vez** que se encuentra esa clavea al recorrer la lista de claves, se crea una lista que contenta el valor asociado a dicha clave.\n",
    "- Si la clave **tiene duplicados, y ya existe** esa clave en el diccionario, se añade el valor asociado a esa clave, a la lista ya existente (mediante el método *append*).\n",
    "\n"
   ]
  },
  {
   "cell_type": "code",
   "execution_count": 13,
   "id": "3e94c822-841c-47c3-bdca-d8db37ad9116",
   "metadata": {},
   "outputs": [
    {
     "data": {
      "text/plain": [
       "{'uno': [1, 5], 'dos': [2, 6], 'tres': 3, 'cuatro': 4}"
      ]
     },
     "execution_count": 13,
     "metadata": {},
     "output_type": "execute_result"
    }
   ],
   "source": [
    "ejemplo3 = {1: \"uno\", 2:\"dos\", 3:\"tres\", 4:\"cuatro\", 5:\"uno\", 6:\"dos\"}\n",
    "\n",
    "corrige_diccionario(ejemplo3, acepta_duplicados = True)"
   ]
  },
  {
   "cell_type": "markdown",
   "id": "ff750120-4d53-42cd-a669-c10bf853821a",
   "metadata": {},
   "source": [
    "## Nivel 2\n",
    "### Ejercicio 2"
   ]
  },
  {
   "cell_type": "markdown",
   "id": "046cc4fc-2514-4f0f-aa5e-499125e52d7a",
   "metadata": {},
   "source": [
    "La función _**conversion**_ recorre una lista de uno o dos niveles de profundidad e intenta convertir cada uno de los valores al tipo de datos float. \n",
    "\n",
    "Para recorrer la lista dada, se utiliza un bucle *for*. Si alguno de los elementos de la lista es una lista o tuple, se recorre este segundo nivel usando un segundo bucle. Con el fin de comprobar que se trata de una lista o tupla, se utiliza la función _isinstance_.\n",
    "\n",
    "Para cada elemento se intenta (dentro de un bloque _try_) convertir el mismo al tipo de datos _float_. Si se consigue convertir, se añade el elemento a la lista _si_float_ y si no se consigue, a la lista _no_float_.\n",
    "\n",
    "Finalmente, se devuelve una tupla con las dos listas."
   ]
  },
  {
   "cell_type": "code",
   "execution_count": 14,
   "id": "4b190eee-1407-4733-9b7c-465c6ff45f7b",
   "metadata": {},
   "outputs": [],
   "source": [
    "def conversion(lista):\n",
    "    '''\n",
    "    Convierte una lista con uno o dos niveles de profundidad en una tupla con dos listas, la primera con los valores que se\n",
    "    han podido convertir al tipo de datos float y la segunda con aquellos valores que no se han podido convertir.\n",
    "    '''\n",
    "    si_float = []\n",
    "    no_float = []\n",
    "    for item in lista:\n",
    "        try:\n",
    "            si_float.append(float(item))\n",
    "        except:\n",
    "            if isinstance(item, (list, tuple)):\n",
    "                for item_en_sublista in item:\n",
    "                    try:\n",
    "                        si_float.append(float(item_en_sublista))\n",
    "                    except:\n",
    "                        no_float.append(item_en_sublista)\n",
    "            else:\n",
    "                no_float.append(item)\n",
    "    return (si_float, no_float)"
   ]
  },
  {
   "cell_type": "code",
   "execution_count": 15,
   "id": "5ad5fdba-9c1e-4d63-9f9a-2c57d2c6a257",
   "metadata": {},
   "outputs": [
    {
     "data": {
      "text/plain": [
       "([1.3, 10000000000.0, 2.0, 1.0, 1.4, 1.0, 2.0, 3.0, 3.4],\n",
       " ['one', 'seven', '3-1/2', 'not-a-number'])"
      ]
     },
     "execution_count": 15,
     "metadata": {},
     "output_type": "execute_result"
    }
   ],
   "source": [
    "mi_lista = [ '1.3', 'one' , '1e10' , 'seven', '3-1/2', ('2',1,1.4,'not-a-number'), [1,2,'3','3.4']]\n",
    "\n",
    "conversion(mi_lista)"
   ]
  },
  {
   "cell_type": "markdown",
   "id": "b5185966-379d-4061-94c3-390ab11207ea",
   "metadata": {},
   "source": [
    "***"
   ]
  },
  {
   "cell_type": "markdown",
   "id": "44c726e1-6508-4127-b158-50a1d9b0cfeb",
   "metadata": {},
   "source": [
    "## Nivel 3\n",
    "### Ejercicio 1"
   ]
  },
  {
   "cell_type": "markdown",
   "id": "b4768795-3a91-4903-bc56-41101c8afa7f",
   "metadata": {},
   "source": [
    "Se definen dos funciones nuevas:\n",
    "\n",
    "- **lector_texto**: lee el contenido de un archivo *txt* con el nombre facilitado como parámetro de la función.\n",
    "    - Se utiliza *open with* para generar un nuevo contexto (apertura y cierre del archivo tras la lectura).\n",
    "    - El archivo se abre en *modo lectura (\"r\")*, y se lee el contenido del mismo con el método *read()*.\n",
    "    - Se devuelve un único *string* con todo el contenido del archivo txt.\n",
    "\n",
    "- **alfabetizar_diccionarios**: dado un diccionario con palabras como clave y su frecuencia de aparición el texto como valores, devuelve un diccionario con cada una de las letras iniciales como clave, conteniendo diccionarios con palabra como clave y su frecuencia como valor.\n",
    "\n",
    "Se reutilizan las funciones definidas en el **Nivel 1 Ejercicio 3**:\n",
    "- **limpiar_texto**: descrita anteriormente.\n",
    "- **contador palabras**: descrita anteriormente."
   ]
  },
  {
   "cell_type": "code",
   "execution_count": 16,
   "id": "cb254a2c-7528-472d-8405-5479a455b5a0",
   "metadata": {},
   "outputs": [],
   "source": [
    "def limpiar_texto(texto):\n",
    "    '''\n",
    "    El parámetro texto debe ser una cadena de caracteres (string).\n",
    "    Devuelve el texto conservando únicamen caracteres alfabéticos y espacios.\n",
    "    '''\n",
    "    texto_limpio = \"\"\n",
    "    try:\n",
    "        texto = str(texto)\n",
    "        for caracter in texto:\n",
    "            if not caracter.isalpha():\n",
    "                caracter = \" \"\n",
    "                if (len(texto_limpio) > 0) and (texto_limpio[-1] != \" \"):\n",
    "                    texto_limpio += caracter              \n",
    "            else:\n",
    "                texto_limpio += caracter.lower()          \n",
    "    except:\n",
    "        return False\n",
    "    \n",
    "    return texto_limpio\n",
    "\n",
    "\n",
    "def contador_palabras(texto, orden_alfabetico = True):\n",
    "    '''\n",
    "    Dado un texto previamente tratado con la función limpiar_texto,\n",
    "    devuelve un diccionario con palabras como claves y su frecuencia de aparición como valores.\n",
    "    '''\n",
    "    texto = limpiar_texto(texto)\n",
    "    lista_palabras = texto.split()\n",
    "    frecuencia_palabras = {}\n",
    "    for palabra in lista_palabras:\n",
    "        if palabra in frecuencia_palabras:\n",
    "            frecuencia_palabras[palabra] += 1\n",
    "        else:\n",
    "            frecuencia_palabras[palabra] = 1\n",
    "    \n",
    "    if orden_alfabetico: # Por defecto, se devuelve el diccionario con las claves ordenadas alfabeticamente \n",
    "        frecuencia_palabras = {clave : frecuencia_palabras[clave] for clave in sorted(frecuencia_palabras)}\n",
    "    \n",
    "    return frecuencia_palabras\n",
    "\n",
    "\n",
    "def lector_txt(archivo_txt):\n",
    "    '''\n",
    "    Se pasa como parámetro un nombre de archivo txt. \n",
    "    Devuelve un string con el contenido del archivo facilitado.\n",
    "    '''\n",
    "    with open(archivo_txt, \"r\") as contenido_txt:\n",
    "        texto = contenido_txt.read()\n",
    "    return texto\n",
    "    \n",
    "\n",
    "def alfabetizar_diccionarios(diccionario):\n",
    "    '''\n",
    "    Dado un diccionario de frecuencias (generado con la función contador_palabras),\n",
    "    devuelve un diccionario con las iniciales de cada palabra y diccionarios de frecuencias para las palabras \n",
    "    que empiezan cada inicial como valores.\n",
    "    '''\n",
    "    diccionario_por_inicial =  {}\n",
    "    for clave in diccionario:\n",
    "        inicial = clave[0]\n",
    "        if inicial not in diccionario_por_inicial:\n",
    "            diccionario_por_inicial[inicial] = {clave: diccionario[clave]}\n",
    "        else:\n",
    "            diccionario_por_inicial[inicial][clave] = diccionario[clave]\n",
    "    return diccionario_por_inicial"
   ]
  },
  {
   "cell_type": "markdown",
   "id": "0c884839-8138-4744-813d-b348fd00c97c",
   "metadata": {},
   "source": [
    "Se carga el contenido del archivo txt en la variable _mi_texto_ usando la función **lector_txt**:"
   ]
  },
  {
   "cell_type": "code",
   "execution_count": 17,
   "id": "a9a80d21-3392-45ca-8cf5-93c5f3b9d5d5",
   "metadata": {},
   "outputs": [],
   "source": [
    "mi_texto = lector_txt(\"tu_me_quieres_blanca.txt\")"
   ]
  },
  {
   "cell_type": "markdown",
   "id": "ec2c83ff-38e9-4ac4-ae70-c0ebf1e96298",
   "metadata": {},
   "source": [
    "Se obtiene un diccionario con la frecuencia de aparición de cada palabra en _mi_texto_, haciendo uso de la funcion **contador_palabras**:"
   ]
  },
  {
   "cell_type": "code",
   "execution_count": 18,
   "id": "d72bf437-663e-41fc-9515-7d3640a696cf",
   "metadata": {},
   "outputs": [],
   "source": [
    "diccionario_frecuencias = contador_palabras(mi_texto)"
   ]
  },
  {
   "cell_type": "markdown",
   "id": "365d65ef-3fe0-41a8-a997-ecd8080f51f5",
   "metadata": {},
   "source": [
    "Se pasa el diccionario obtenido a la función **alfabetizar_diccionarios**, para agrupar en diccionarios las palabras en base a su inicial:"
   ]
  },
  {
   "cell_type": "code",
   "execution_count": 19,
   "id": "223dd4ef-4626-4210-9dbb-a0707ae1c766",
   "metadata": {},
   "outputs": [
    {
     "data": {
      "text/plain": [
       "{'a': {'a': 3,\n",
       "  'agua': 1,\n",
       "  'al': 2,\n",
       "  'alba': 4,\n",
       "  'alcobas': 1,\n",
       "  'alimenta': 1,\n",
       "  'alma': 1,\n",
       "  'amarga': 1,\n",
       "  'azucena': 1},\n",
       " 'b': {'baco': 1,\n",
       "  'banquete': 1,\n",
       "  'bebe': 1,\n",
       "  'blanca': 3,\n",
       "  'boca': 1,\n",
       "  'bosques': 1,\n",
       "  'buen': 1},\n",
       " 'c': {'cabañas': 1,\n",
       "  'carnes': 2,\n",
       "  'casta': 3,\n",
       "  'cerrada': 1,\n",
       "  'con': 4,\n",
       "  'conservas': 1,\n",
       "  'copas': 1,\n",
       "  'corola': 1,\n",
       "  'corriste': 1,\n",
       "  'cuando': 2,\n",
       "  'cubierto': 1,\n",
       "  'cuerpo': 1,\n",
       "  'cuáles': 1},\n",
       " 'd': {'de': 8, 'dejaste': 1, 'del': 1, 'diga': 1, 'dios': 2, 'duerme': 1},\n",
       " 'e': {'el': 4,\n",
       "  'ellas': 1,\n",
       "  'en': 4,\n",
       "  'engaño': 1,\n",
       "  'enredada': 1,\n",
       "  'entonces': 1,\n",
       "  'escarcha': 1,\n",
       "  'espumas': 1,\n",
       "  'esqueleto': 1,\n",
       "  'estrago': 1},\n",
       " 'f': {'festejando': 1, 'filtrado': 1, 'frutos': 1},\n",
       " 'h': {'habla': 1,\n",
       "  'hacia': 1,\n",
       "  'haya': 1,\n",
       "  'hayas': 1,\n",
       "  'hermana': 1,\n",
       "  'hombre': 1,\n",
       "  'hubiste': 1,\n",
       "  'huye': 1},\n",
       " 'i': {'intacto': 1},\n",
       " 'j': {'jardines': 1},\n",
       " 'l': {'la': 3,\n",
       "  'labios': 1,\n",
       "  'las': 7,\n",
       "  'lo': 2,\n",
       "  'los': 4,\n",
       "  'luna': 1,\n",
       "  'lévate': 1,\n",
       "  'límpiate': 1},\n",
       " 'm': {'mano': 1,\n",
       "  'manos': 1,\n",
       "  'margarita': 1,\n",
       "  'me': 10,\n",
       "  'mi': 1,\n",
       "  'mieles': 1,\n",
       "  'milagros': 1,\n",
       "  'mojada': 1,\n",
       "  'montaña': 1,\n",
       "  'morados': 1},\n",
       " 'n': {'negros': 1, 'ni': 2, 'no': 1, 'nácar': 1, 'nívea': 2},\n",
       " 'p': {'perdone': 2,\n",
       "  'perfume': 1,\n",
       "  'por': 2,\n",
       "  'pretendes': 3,\n",
       "  'preténdeme': 3,\n",
       "  'puesto': 1,\n",
       "  'pájaros': 1,\n",
       "  'pámpanos': 1},\n",
       " 'q': {'que': 6, 'quedó': 1, 'quieres': 6},\n",
       " 'r': {'rayo': 1, 'raíz': 1, 'renueva': 1, 'rocas': 1, 'rojo': 1},\n",
       " 's': {'salitre': 1, 'se': 2, 'sea': 1, 'sean': 1, 'sobre': 2, 'sé': 1},\n",
       " 't': {'te': 3,\n",
       "  'tejidos': 1,\n",
       "  'tenue': 1,\n",
       "  'tierra': 1,\n",
       "  'toca': 1,\n",
       "  'todas': 2,\n",
       "  'todavía': 1,\n",
       "  'tornadas': 1,\n",
       "  'tú': 8},\n",
       " 'u': {'un': 1, 'una': 1},\n",
       " 'v': {'vestido': 1, 'vete': 1, 'vive': 1},\n",
       " 'y': {'y': 5}}"
      ]
     },
     "execution_count": 19,
     "metadata": {},
     "output_type": "execute_result"
    }
   ],
   "source": [
    "alfabetizar_diccionarios(diccionario_frecuencias)"
   ]
  }
 ],
 "metadata": {
  "kernelspec": {
   "display_name": "Python [conda env:itacademy] *",
   "language": "python",
   "name": "conda-env-itacademy-py"
  },
  "language_info": {
   "codemirror_mode": {
    "name": "ipython",
    "version": 3
   },
   "file_extension": ".py",
   "mimetype": "text/x-python",
   "name": "python",
   "nbconvert_exporter": "python",
   "pygments_lexer": "ipython3",
   "version": "3.13.2"
  }
 },
 "nbformat": 4,
 "nbformat_minor": 5
}
